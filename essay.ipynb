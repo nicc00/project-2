{
 "cells": [
  {
   "cell_type": "markdown",
   "metadata": {},
   "source": [
    "# Reddit comment analysis #\n",
    "Nicolas Cort"
   ]
  },
  {
   "cell_type": "code",
   "execution_count": 1,
   "metadata": {},
   "outputs": [],
   "source": [
    "from visualizations import avgWordPlot\n",
    "from visualizations import correctnessPlot\n",
    "import lengths\n",
    "import spelling"
   ]
  },
  {
   "cell_type": "markdown",
   "metadata": {},
   "source": [
    "A question that has long been on my mind is, how knowledgable are sports fans in their respective subreddits? As a casual sports fan I often visit sports subreddits to get news and information and I have noticed that not all subreddits are the same. While some subreddits are filled with low quality comments that don't particularly add to the discussion, others have more serious communities that enjoy advanced conversation. For anyone looking to learn about a sport it can be important to find the more serious communities. In this project I try to answer this question by determining the \"wordiness\" of comments in several different sports subreddits. Although this is not a perfect method, it can show how much time and thought user put into their comments accross several subreddits. "
   ]
  },
  {
   "cell_type": "markdown",
   "metadata": {},
   "source": [
    "To do this analysis I had to collect data from several specific subreddits. I chose to analyze six of the largest individual sports subreddits as well as the default \"sports\" subreddit. This data was collected using the Reddit API and the praw python package. To store the data I used pandas to create a dataframe consisting of the average words per comment by subreddit. From this data I was able to visualize bar charts comparing the average comment length accross the different subreddits. I chose to collect data from two sources in each subreddit. Once from the \"top\" 50 all time posts and then from the \"hot\" 50 posts. "
   ]
  },
  {
   "cell_type": "code",
   "execution_count": 2,
   "metadata": {},
   "outputs": [],
   "source": [
    "subreddits = ['nfl', 'nba', 'soccer', 'baseball', 'hockey', 'mma', 'sports']"
   ]
  },
  {
   "cell_type": "code",
   "execution_count": 38,
   "metadata": {},
   "outputs": [
    {
     "data": {
      "text/html": [
       "<div>\n",
       "<style scoped>\n",
       "    .dataframe tbody tr th:only-of-type {\n",
       "        vertical-align: middle;\n",
       "    }\n",
       "\n",
       "    .dataframe tbody tr th {\n",
       "        vertical-align: top;\n",
       "    }\n",
       "\n",
       "    .dataframe thead th {\n",
       "        text-align: right;\n",
       "    }\n",
       "</style>\n",
       "<table border=\"1\" class=\"dataframe\">\n",
       "  <thead>\n",
       "    <tr style=\"text-align: right;\">\n",
       "      <th></th>\n",
       "      <th>Subreddit</th>\n",
       "      <th>\"Top\" Average Words</th>\n",
       "      <th>\"Hot\" Average Words</th>\n",
       "    </tr>\n",
       "  </thead>\n",
       "  <tbody>\n",
       "    <tr>\n",
       "      <th>0</th>\n",
       "      <td>nfl</td>\n",
       "      <td>17.829721</td>\n",
       "      <td>18.435482</td>\n",
       "    </tr>\n",
       "    <tr>\n",
       "      <th>1</th>\n",
       "      <td>nba</td>\n",
       "      <td>19.174409</td>\n",
       "      <td>23.852476</td>\n",
       "    </tr>\n",
       "    <tr>\n",
       "      <th>2</th>\n",
       "      <td>soccer</td>\n",
       "      <td>16.816590</td>\n",
       "      <td>16.885845</td>\n",
       "    </tr>\n",
       "    <tr>\n",
       "      <th>3</th>\n",
       "      <td>baseball</td>\n",
       "      <td>18.460960</td>\n",
       "      <td>22.267688</td>\n",
       "    </tr>\n",
       "    <tr>\n",
       "      <th>4</th>\n",
       "      <td>hockey</td>\n",
       "      <td>17.451286</td>\n",
       "      <td>22.985352</td>\n",
       "    </tr>\n",
       "    <tr>\n",
       "      <th>5</th>\n",
       "      <td>mma</td>\n",
       "      <td>18.913370</td>\n",
       "      <td>22.678864</td>\n",
       "    </tr>\n",
       "    <tr>\n",
       "      <th>6</th>\n",
       "      <td>sports</td>\n",
       "      <td>19.053613</td>\n",
       "      <td>36.910110</td>\n",
       "    </tr>\n",
       "  </tbody>\n",
       "</table>\n",
       "</div>"
      ],
      "text/plain": [
       "  Subreddit  \"Top\" Average Words  \"Hot\" Average Words\n",
       "0       nfl            17.829721            18.435482\n",
       "1       nba            19.174409            23.852476\n",
       "2    soccer            16.816590            16.885845\n",
       "3  baseball            18.460960            22.267688\n",
       "4    hockey            17.451286            22.985352\n",
       "5       mma            18.913370            22.678864\n",
       "6    sports            19.053613            36.910110"
      ]
     },
     "execution_count": 38,
     "metadata": {},
     "output_type": "execute_result"
    }
   ],
   "source": [
    "lengths.getAverages(subreddits, 150, \"top_150_scores.csv\")"
   ]
  },
  {
   "cell_type": "code",
   "execution_count": 3,
   "metadata": {
    "scrolled": true
   },
   "outputs": [
    {
     "data": {
      "text/html": [
       "<div>\n",
       "<style scoped>\n",
       "    .dataframe tbody tr th:only-of-type {\n",
       "        vertical-align: middle;\n",
       "    }\n",
       "\n",
       "    .dataframe tbody tr th {\n",
       "        vertical-align: top;\n",
       "    }\n",
       "\n",
       "    .dataframe thead th {\n",
       "        text-align: right;\n",
       "    }\n",
       "</style>\n",
       "<table border=\"1\" class=\"dataframe\">\n",
       "  <thead>\n",
       "    <tr style=\"text-align: right;\">\n",
       "      <th></th>\n",
       "      <th>Subreddit</th>\n",
       "      <th>\"Top\" % of correct words</th>\n",
       "      <th>\"Hot\" % of correct words</th>\n",
       "    </tr>\n",
       "  </thead>\n",
       "  <tbody>\n",
       "    <tr>\n",
       "      <th>0</th>\n",
       "      <td>nfl</td>\n",
       "      <td>0.819405</td>\n",
       "      <td>0.824333</td>\n",
       "    </tr>\n",
       "    <tr>\n",
       "      <th>1</th>\n",
       "      <td>nba</td>\n",
       "      <td>0.829833</td>\n",
       "      <td>0.825600</td>\n",
       "    </tr>\n",
       "    <tr>\n",
       "      <th>2</th>\n",
       "      <td>soccer</td>\n",
       "      <td>0.819947</td>\n",
       "      <td>0.832700</td>\n",
       "    </tr>\n",
       "    <tr>\n",
       "      <th>3</th>\n",
       "      <td>baseball</td>\n",
       "      <td>0.816472</td>\n",
       "      <td>0.828089</td>\n",
       "    </tr>\n",
       "    <tr>\n",
       "      <th>4</th>\n",
       "      <td>hockey</td>\n",
       "      <td>0.817443</td>\n",
       "      <td>0.818318</td>\n",
       "    </tr>\n",
       "    <tr>\n",
       "      <th>5</th>\n",
       "      <td>mma</td>\n",
       "      <td>0.819592</td>\n",
       "      <td>0.831521</td>\n",
       "    </tr>\n",
       "    <tr>\n",
       "      <th>6</th>\n",
       "      <td>sports</td>\n",
       "      <td>0.823637</td>\n",
       "      <td>0.837905</td>\n",
       "    </tr>\n",
       "  </tbody>\n",
       "</table>\n",
       "</div>"
      ],
      "text/plain": [
       "  Subreddit  \"Top\" % of correct words  \"Hot\" % of correct words\n",
       "0       nfl                  0.819405                  0.824333\n",
       "1       nba                  0.829833                  0.825600\n",
       "2    soccer                  0.819947                  0.832700\n",
       "3  baseball                  0.816472                  0.828089\n",
       "4    hockey                  0.817443                  0.818318\n",
       "5       mma                  0.819592                  0.831521\n",
       "6    sports                  0.823637                  0.837905"
      ]
     },
     "execution_count": 3,
     "metadata": {},
     "output_type": "execute_result"
    }
   ],
   "source": [
    "spelling.spellingComparer(subreddits, 50, \"top_50_spelling.csv\")"
   ]
  },
  {
   "cell_type": "markdown",
   "metadata": {},
   "source": [
    "Below is a chart that shows the \"wordiness\" of comments in the \"top\" 50 submissions and the \"wordiness\" of comments in the \"hot\" 50 submissions side by side. Immediately we can see that the \"wordiness\" is higher among the \"hot\" submissions almost accross every subreddit. We also see that the general sports subreddit has significantly higher \"wordiness\" than most other subreddits. Among the top submissions the nba subreddit has the highest \"wordiness\" while the soccer subreddit has the lowest wordiness in both categories. "
   ]
  },
  {
   "cell_type": "code",
   "execution_count": 2,
   "metadata": {
    "scrolled": true
   },
   "outputs": [
    {
     "data": {
      "image/png": "[encoded data removed]",
      "text/plain": [
       "<Figure size 432x288 with 1 Axes>"
      ]
     },
     "metadata": {},
     "output_type": "display_data"
    }
   ],
   "source": [
    "avgWordPlot('top_150_scores.csv')"
   ]
  },
  {
   "cell_type": "markdown",
   "metadata": {},
   "source": [
    "Next, is a graph displaying the percentage of correct words in the comments. Unfortunately this graph does not tell us much because the percentage of correct words is pretty uniform accross all subreddits. The percentage of correct words ranged from 81% to 84% in all categories. "
   ]
  },
  {
   "cell_type": "code",
   "execution_count": 4,
   "metadata": {},
   "outputs": [
    {
     "data": {
      "image/png": "[encoded data removed]",
      "text/plain": [
       "<Figure size 432x288 with 1 Axes>"
      ]
     },
     "metadata": {},
     "output_type": "display_data"
    }
   ],
   "source": [
    "correctnessPlot('top_50_spelling.csv')"
   ]
  },
  {
   "cell_type": "markdown",
   "metadata": {},
   "source": [
    "From these visualizations we can see how the subreddits compare in \"wordiness\" and correctness. We can see that there is a clear importance in the \"wordiness\" scale as it varies among subreddits. This leads me to believe that the discussion does differ based on which subreddit you choose. With more analysis into other metrics I am certain that one could conclude which subreddit provides better quality of discussion. During this project, however, I could not find that answer. Still, I learned a lot about how web-scraping works and about what works best when collecting data. The most frustrating part for me was waiting for all the requests to complete as I had to send a new request for every single submission. If I had more time I would apply more metrics such as a profanity monitor and maybe a test to compare the sentence complexity but that involves complex natural language processing that I did not have time to learn. "
   ]
  }
 ],
 "metadata": {
  "kernelspec": {
   "display_name": "Python 3",
   "language": "python",
   "name": "python3"
  },
  "language_info": {
   "codemirror_mode": {
    "name": "ipython",
    "version": 3
   },
   "file_extension": ".py",
   "mimetype": "text/x-python",
   "name": "python",
   "nbconvert_exporter": "python",
   "pygments_lexer": "ipython3",
   "version": "3.8.5"
  }
 },
 "nbformat": 4,
 "nbformat_minor": 4
}
